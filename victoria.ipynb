{
  "nbformat": 4,
  "nbformat_minor": 0,
  "metadata": {
    "colab": {
      "name": "victoria.ipynb",
      "provenance": [],
      "collapsed_sections": [],
      "include_colab_link": true
    },
    "kernelspec": {
      "name": "python3",
      "display_name": "Python 3"
    },
    "language_info": {
      "name": "python"
    },
    "accelerator": "GPU"
  },
  "cells": [
    {
      "cell_type": "markdown",
      "metadata": {
        "id": "view-in-github",
        "colab_type": "text"
      },
      "source": [
        "<a href=\"https://colab.research.google.com/github/carmenayala-git/victoriasPython/blob/develop/victoria.ipynb\" target=\"_parent\"><img src=\"https://colab.research.google.com/assets/colab-badge.svg\" alt=\"Open In Colab\"/></a>"
      ]
    },
    {
      "cell_type": "code",
      "source": [
        "import IPython\n",
        "#\n",
        "# array_persons 5 persons of your family\n",
        "# array_devices 5 electronical devices when you can watch movies\n",
        "#\n",
        "\n",
        "array_persons =['Daisy','tod','jacky','bob','alex']\n",
        "array_devices =['iphone','iphone','ipad','computer','Nintendo switch']\n",
        "\n",
        "i= 0\n",
        "while(i <len(array_persons)):\n",
        "  print(array_persons[i] + \" Loves the \" + array_devices[i])\n",
        "  i += 1"
      ],
      "metadata": {
        "colab": {
          "base_uri": "https://localhost:8080/"
        },
        "id": "sn0Mf3GiPNuS",
        "outputId": "c32f08e2-2eb5-4412-ae66-4782415a4b36"
      },
      "execution_count": 26,
      "outputs": [
        {
          "output_type": "stream",
          "name": "stdout",
          "text": [
            "Daisy Loves the iphone\n",
            "jacky Loves the ipad\n",
            "alex Loves the Nintendo switch\n"
          ]
        }
      ]
    },
    {
      "cell_type": "code",
      "source": [
        "print(\"Hi python\")"
      ],
      "metadata": {
        "colab": {
          "base_uri": "https://localhost:8080/"
        },
        "id": "iZZalaWNHZF_",
        "outputId": "a2f6ac3e-7ef5-40ac-b3c2-4eea72ccefeb"
      },
      "execution_count": null,
      "outputs": [
        {
          "output_type": "stream",
          "name": "stdout",
          "text": [
            "Hi python\n"
          ]
        }
      ]
    },
    {
      "cell_type": "code",
      "source": [
        ""
      ],
      "metadata": {
        "id": "F8j3rJdfYolK"
      },
      "execution_count": null,
      "outputs": []
    },
    {
      "cell_type": "code",
      "source": [
        ""
      ],
      "metadata": {
        "id": "xmlv5cgGYo1P"
      },
      "execution_count": null,
      "outputs": []
    },
    {
      "cell_type": "code",
      "source": [
        "i = 0\n",
        "array_example = [0,1,2,3,4]\n",
        "#len(array_example) = 5\n",
        "while(i<len(array_example)):\n",
        "  print(array_example[i])\n",
        "  i = i + 1"
      ],
      "metadata": {
        "id": "Td9_doHWYpBr",
        "colab": {
          "base_uri": "https://localhost:8080/"
        },
        "outputId": "7b807598-a166-4093-b26b-cac66fd03207"
      },
      "execution_count": 14,
      "outputs": [
        {
          "output_type": "stream",
          "name": "stdout",
          "text": [
            "0\n",
            "1\n",
            "2\n",
            "3\n",
            "4\n"
          ]
        }
      ]
    },
    {
      "cell_type": "code",
      "source": [
        ""
      ],
      "metadata": {
        "id": "eB7U4jshPLNp"
      },
      "execution_count": null,
      "outputs": []
    },
    {
      "cell_type": "code",
      "source": [
        ""
      ],
      "metadata": {
        "id": "PZBhv7s-PM14"
      },
      "execution_count": null,
      "outputs": []
    },
    {
      "cell_type": "code",
      "source": [
        "people =['Mario','Ella','Daisy','Tod','Jacky']\n",
        "desserts =['cake','pie','ice cream','creme brule','cup cakes']\n",
        "i=0\n",
        "while(i <len(people)):\n",
        " print(i)\n",
        " print(f\"Hi! My name is  {people[i]}. My favorite dessert is {desserts[i]}.\")\n",
        " i +=1"
      ],
      "metadata": {
        "id": "ZxVbDVCmYpNl",
        "colab": {
          "base_uri": "https://localhost:8080/"
        },
        "outputId": "19f916d2-db67-4bdf-f743-79a760914866"
      },
      "execution_count": 4,
      "outputs": [
        {
          "output_type": "stream",
          "name": "stdout",
          "text": [
            "0\n",
            "Hi! My name is  Mario. My favorite dessert is cake.\n",
            "1\n",
            "Hi! My name is  Ella. My favorite dessert is pie.\n",
            "2\n",
            "Hi! My name is  Daisy. My favorite dessert is ice cream.\n",
            "3\n",
            "Hi! My name is  Tod. My favorite dessert is creme brule.\n",
            "4\n",
            "Hi! My name is  Jacky. My favorite dessert is cup cakes.\n"
          ]
        }
      ]
    },
    {
      "cell_type": "code",
      "source": [
        "\"\"\"\n",
        "for\n",
        "\"\"\"\n",
        "array_friends = ['Lucila','Victoria','JD','Dory']\n",
        "for i in range(0,4):\n",
        "  print(array_friends[i])\n",
        "\n",
        "\"\"\"\n",
        "while\n",
        "\"\"\"\n",
        "i = 0\n",
        "while(i < len(array_friends)):\n",
        "  print(array_friends[i])\n",
        "  i = i + 1\n"
      ],
      "metadata": {
        "id": "72qLlPxKgiuQ",
        "colab": {
          "base_uri": "https://localhost:8080/"
        },
        "outputId": "c8fde3b8-f2ac-4894-d8f3-1d843a192489"
      },
      "execution_count": 13,
      "outputs": [
        {
          "output_type": "stream",
          "name": "stdout",
          "text": [
            "Lucila\n",
            "Victoria\n",
            "JD\n",
            "Dory\n",
            "Lucila\n",
            "Victoria\n",
            "JD\n",
            "Dory\n"
          ]
        }
      ]
    },
    {
      "cell_type": "code",
      "source": [
        "for i in range(0,101,10):\n",
        " print(i)"
      ],
      "metadata": {
        "colab": {
          "base_uri": "https://localhost:8080/"
        },
        "id": "v53kL_snmv0Y",
        "outputId": "b37d429f-13a0-4bfa-97e9-3dceb6be42da"
      },
      "execution_count": null,
      "outputs": [
        {
          "output_type": "stream",
          "name": "stdout",
          "text": [
            "0\n",
            "10\n",
            "20\n",
            "30\n",
            "40\n",
            "50\n",
            "60\n",
            "70\n",
            "80\n",
            "90\n",
            "100\n"
          ]
        }
      ]
    },
    {
      "cell_type": "code",
      "source": [
        "numbers =[1,2,3,4,5,6,7,8,9,10,11,12,13,14,15]\n",
        "i=0\n",
        "while(1 < len(numbers)):\n",
        "  if (numbers[i] + 2)<20:\n",
        "   print(numbers[i] + 2\n",
        "i+=1"
      ],
      "metadata": {
        "colab": {
          "base_uri": "https://localhost:8080/",
          "height": 131
        },
        "id": "QVsEob2K1KwF",
        "outputId": "36c87379-b620-4d95-aa57-6a44332711e9"
      },
      "execution_count": null,
      "outputs": [
        {
          "output_type": "error",
          "ename": "SyntaxError",
          "evalue": "ignored",
          "traceback": [
            "\u001b[0;36m  File \u001b[0;32m\"<ipython-input-16-d56eeab98d3e>\"\u001b[0;36m, line \u001b[0;32m6\u001b[0m\n\u001b[0;31m    i+=1\u001b[0m\n\u001b[0m    ^\u001b[0m\n\u001b[0;31mSyntaxError\u001b[0m\u001b[0;31m:\u001b[0m invalid syntax\n"
          ]
        }
      ]
    },
    {
      "cell_type": "code",
      "source": [
        ""
      ],
      "metadata": {
        "id": "m0MOUqsn3Z7f"
      },
      "execution_count": null,
      "outputs": []
    },
    {
      "cell_type": "code",
      "source": [
        "for i in range(1,2):\n",
        " print(i)"
      ],
      "metadata": {
        "colab": {
          "base_uri": "https://localhost:8080/"
        },
        "id": "wIB-YGn3OuCl",
        "outputId": "f584ebf9-1246-416c-bad1-9484db84deb0"
      },
      "execution_count": null,
      "outputs": [
        {
          "output_type": "stream",
          "name": "stdout",
          "text": [
            "1\n"
          ]
        }
      ]
    },
    {
      "cell_type": "code",
      "source": [
        "numbers =[1,2,3,4,5]\n",
        "for number in numbers:\n",
        "  print(number -2)"
      ],
      "metadata": {
        "colab": {
          "base_uri": "https://localhost:8080/"
        },
        "id": "YVQ6DwkYXqzu",
        "outputId": "fcc05bcb-dadd-44be-e934-7d8a17ab597f"
      },
      "execution_count": null,
      "outputs": [
        {
          "output_type": "stream",
          "name": "stdout",
          "text": [
            "-1\n",
            "0\n",
            "1\n",
            "2\n",
            "3\n"
          ]
        }
      ]
    },
    {
      "cell_type": "code",
      "source": [
        "random_items =['red','basket','pop','ball']"
      ],
      "metadata": {
        "id": "5GpPk9TQjAQ2"
      },
      "execution_count": null,
      "outputs": []
    },
    {
      "cell_type": "code",
      "source": [
        "print(f\"{random_items[1]}{random_items[3]}\")"
      ],
      "metadata": {
        "colab": {
          "base_uri": "https://localhost:8080/"
        },
        "id": "WFDb5YIGjAbZ",
        "outputId": "9e54e974-a9a6-4d87-fdb9-4566c521aca4"
      },
      "execution_count": null,
      "outputs": [
        {
          "output_type": "stream",
          "name": "stdout",
          "text": [
            "basketball\n"
          ]
        }
      ]
    },
    {
      "cell_type": "code",
      "source": [
        "print(f\"{random_items[1]}\")"
      ],
      "metadata": {
        "colab": {
          "base_uri": "https://localhost:8080/"
        },
        "id": "2VKTddPxkE0Y",
        "outputId": "9c9e909c-319b-4033-dfc6-2f9e242459d0"
      },
      "execution_count": null,
      "outputs": [
        {
          "output_type": "stream",
          "name": "stdout",
          "text": [
            "table\n"
          ]
        }
      ]
    },
    {
      "cell_type": "code",
      "source": [
        "letters =['n','y','k','p','l']\n",
        "numbers =['2','9','0','8','15']\n",
        "print(letters + numbers)"
      ],
      "metadata": {
        "colab": {
          "base_uri": "https://localhost:8080/"
        },
        "id": "m9BxYCsn6Yx2",
        "outputId": "5eaecedb-3bcc-467d-81b5-3835c0e4a52e"
      },
      "execution_count": null,
      "outputs": [
        {
          "output_type": "stream",
          "name": "stdout",
          "text": [
            "['n', 'y', 'k', 'p', 'l', '2', '9', '0', '8', '15']\n"
          ]
        }
      ]
    },
    {
      "cell_type": "code",
      "source": [
        "my_favorite_things =['freinds','teachers','family','learning','water parks']\n",
        "print(f\"Victorias favorite things are:{my_favorite_things}\")"
      ],
      "metadata": {
        "colab": {
          "base_uri": "https://localhost:8080/"
        },
        "id": "tAeI859wJ1SK",
        "outputId": "4e7b2ac5-83be-4053-a965-bd64b9854010"
      },
      "execution_count": null,
      "outputs": [
        {
          "output_type": "stream",
          "name": "stdout",
          "text": [
            "Victorias favorite things are:['freinds', 'teachers', 'family', 'learning', 'water parks']\n"
          ]
        }
      ]
    },
    {
      "cell_type": "code",
      "source": [
        "cloud_shapes =['unicorn','rainbow','panda','sqirel','cow']"
      ],
      "metadata": {
        "id": "G24MeD5TLRZ5"
      },
      "execution_count": null,
      "outputs": []
    },
    {
      "cell_type": "code",
      "source": [
        "other_cloud_shapes =['rabbit','goat','lion','rat','ship']"
      ],
      "metadata": {
        "id": "TDbtaaoSL2BZ"
      },
      "execution_count": null,
      "outputs": []
    },
    {
      "cell_type": "code",
      "source": [
        "print(cloud_shapes)"
      ],
      "metadata": {
        "colab": {
          "base_uri": "https://localhost:8080/"
        },
        "id": "oh_K40qBMn_C",
        "outputId": "b80562bd-da14-482e-88d3-4d48cc7758d8"
      },
      "execution_count": null,
      "outputs": [
        {
          "output_type": "stream",
          "name": "stdout",
          "text": [
            "['unicorn', 'rainbow', 'panda', 'sqirel', 'cow']\n"
          ]
        }
      ]
    },
    {
      "cell_type": "code",
      "source": [
        "print(other_cloud_shapes)"
      ],
      "metadata": {
        "colab": {
          "base_uri": "https://localhost:8080/"
        },
        "id": "ZLIiCQjKM6VM",
        "outputId": "f85f07bb-6089-42ba-866e-168d2f095014"
      },
      "execution_count": null,
      "outputs": [
        {
          "output_type": "stream",
          "name": "stdout",
          "text": [
            "['rabbit', 'goat', 'lion', 'rat', 'ship']\n"
          ]
        }
      ]
    },
    {
      "cell_type": "code",
      "source": [
        "random_items =['door','table','box','basket','cake','foot','ball','NPstasion','chair','bed','tenis'] "
      ],
      "metadata": {
        "id": "b0tQk4hiQ-Y-"
      },
      "execution_count": null,
      "outputs": []
    },
    {
      "cell_type": "code",
      "source": [
        "print(f\"{random_items[10]} {random_items[6]}\")"
      ],
      "metadata": {
        "colab": {
          "base_uri": "https://localhost:8080/"
        },
        "id": "QoT5weXNSY0D",
        "outputId": "344c6c72-9b50-4d46-b41a-932a8482a605"
      },
      "execution_count": null,
      "outputs": [
        {
          "output_type": "stream",
          "name": "stdout",
          "text": [
            "tenis ball\n"
          ]
        }
      ]
    },
    {
      "cell_type": "code",
      "source": [
        "print('I\\'m so happy')"
      ],
      "metadata": {
        "colab": {
          "base_uri": "https://localhost:8080/"
        },
        "id": "BBj7eESTH2QF",
        "outputId": "cc243721-d132-4f56-c0aa-a0ce283dd4e6"
      },
      "execution_count": null,
      "outputs": [
        {
          "output_type": "stream",
          "name": "stdout",
          "text": [
            "I'm so happy\n"
          ]
        }
      ]
    },
    {
      "cell_type": "code",
      "source": [
        "letters =['f','j','l','k','a']"
      ],
      "metadata": {
        "id": "9FMbXBTZfA3P"
      },
      "execution_count": null,
      "outputs": []
    },
    {
      "cell_type": "code",
      "source": [
        "'a' in letters"
      ],
      "metadata": {
        "colab": {
          "base_uri": "https://localhost:8080/"
        },
        "id": "MDZoNmitfur5",
        "outputId": "59d63c3d-684e-42bd-e0fb-827ad1e1e5c4"
      },
      "execution_count": null,
      "outputs": [
        {
          "output_type": "execute_result",
          "data": {
            "text/plain": [
              "True"
            ]
          },
          "metadata": {},
          "execution_count": 24
        }
      ]
    },
    {
      "cell_type": "code",
      "source": [
        "numbers =['1','2','3','4','5']"
      ],
      "metadata": {
        "id": "I3DJzjhBlK_p"
      },
      "execution_count": null,
      "outputs": []
    },
    {
      "cell_type": "code",
      "source": [
        "digits =['1','2','3','5','7']"
      ],
      "metadata": {
        "id": "LHzxiFIcmEn1"
      },
      "execution_count": null,
      "outputs": []
    },
    {
      "cell_type": "code",
      "source": [
        "'7' in digits"
      ],
      "metadata": {
        "colab": {
          "base_uri": "https://localhost:8080/"
        },
        "id": "MqY2rZG6lVLo",
        "outputId": "847a2b27-4001-4e73-de6a-c2869b6f8f21"
      },
      "execution_count": null,
      "outputs": [
        {
          "output_type": "execute_result",
          "data": {
            "text/plain": [
              "True"
            ]
          },
          "metadata": {},
          "execution_count": 33
        }
      ]
    },
    {
      "cell_type": "code",
      "source": [
        "'p' in letters"
      ],
      "metadata": {
        "colab": {
          "base_uri": "https://localhost:8080/"
        },
        "id": "J30MqSuTgJGg",
        "outputId": "dbf761d6-872c-4dc3-97cf-5ca67a17ba46"
      },
      "execution_count": null,
      "outputs": [
        {
          "output_type": "execute_result",
          "data": {
            "text/plain": [
              "False"
            ]
          },
          "metadata": {},
          "execution_count": 10
        }
      ]
    },
    {
      "cell_type": "code",
      "source": [
        "letters[2:3]"
      ],
      "metadata": {
        "colab": {
          "base_uri": "https://localhost:8080/"
        },
        "id": "1VRTT51-gO0S",
        "outputId": "56b71901-b797-4655-f8a3-fdc389bc9ca6"
      },
      "execution_count": null,
      "outputs": [
        {
          "output_type": "execute_result",
          "data": {
            "text/plain": [
              "['l']"
            ]
          },
          "metadata": {},
          "execution_count": 12
        }
      ]
    },
    {
      "cell_type": "code",
      "source": [
        "print('I\\'m so \\nhappy')"
      ],
      "metadata": {
        "id": "9PMhn5hBIaxL",
        "colab": {
          "base_uri": "https://localhost:8080/"
        },
        "outputId": "0e24baa4-3e39-4223-ac67-8b743a5b8e75"
      },
      "execution_count": null,
      "outputs": [
        {
          "output_type": "stream",
          "name": "stdout",
          "text": [
            "I'm so \n",
            "happy\n"
          ]
        }
      ]
    },
    {
      "cell_type": "code",
      "source": [
        "mood ='happy'\n",
        "print(f\"I am feeing {mood}\")"
      ],
      "metadata": {
        "colab": {
          "base_uri": "https://localhost:8080/"
        },
        "id": "i6QeMZ9Igg3R",
        "outputId": "55515592-1510-45a0-b203-01e1fa9c0e95"
      },
      "execution_count": null,
      "outputs": [
        {
          "output_type": "stream",
          "name": "stdout",
          "text": [
            "I am feeing happy\n"
          ]
        }
      ]
    },
    {
      "cell_type": "code",
      "source": [
        "mood ='tired'\n",
        "if mood =='tired':\n",
        " hit_snooze_button = True\n",
        " print(\"Victoria is tired so she hits the snooze button.\")"
      ],
      "metadata": {
        "colab": {
          "base_uri": "https://localhost:8080/"
        },
        "id": "tPNKdNBChTEX",
        "outputId": "7bb6b5b8-88cf-4444-f722-b9ecc3a586b4"
      },
      "execution_count": null,
      "outputs": [
        {
          "output_type": "stream",
          "name": "stdout",
          "text": [
            "Victoria is tired so she hits the snooze button.\n"
          ]
        }
      ]
    },
    {
      "cell_type": "code",
      "source": [
        " numbers =[3,4,5,1,9]\n",
        " #print(numbers)\n",
        " for number in numbers:\n",
        "   print(number)\n",
        "\n",
        " letters =['l','k','o','m','b']\n",
        " for letter in letters:\n",
        "   print(letter) "
      ],
      "metadata": {
        "id": "DsDeZYImIhKM",
        "colab": {
          "base_uri": "https://localhost:8080/"
        },
        "outputId": "bd6c03c4-e49f-43e0-ea37-7efa50a63c21"
      },
      "execution_count": null,
      "outputs": [
        {
          "output_type": "stream",
          "name": "stdout",
          "text": [
            "3\n",
            "4\n",
            "5\n",
            "1\n",
            "9\n",
            "l\n",
            "k\n",
            "o\n",
            "m\n",
            "b\n"
          ]
        }
      ]
    }
  ]
}